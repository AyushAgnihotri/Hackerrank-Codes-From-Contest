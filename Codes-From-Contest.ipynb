{
 "cells": [
  {
   "cell_type": "code",
   "execution_count": 187,
   "metadata": {},
   "outputs": [],
   "source": [
    "from bs4 import BeautifulSoup\n",
    "import requests\n",
    "import pandas as pd\n",
    "import json\n",
    "from selenium import webdriver\n",
    "from webdriver_manager.chrome import ChromeDriverManager\n",
    "import time\n",
    "import csv"
   ]
  },
  {
   "cell_type": "code",
   "execution_count": 188,
   "metadata": {},
   "outputs": [
    {
     "name": "stdout",
     "output_type": "stream",
     "text": [
      "\n",
      "Checking for linux64 chromedriver:76.0.3809.126 in cache\n",
      "Driver found in /home/ayush/.wdm/chromedriver/76.0.3809.126/linux64/chromedriver\n"
     ]
    }
   ],
   "source": [
    "driver = webdriver.Chrome(ChromeDriverManager().install())"
   ]
  },
  {
   "cell_type": "code",
   "execution_count": 200,
   "metadata": {},
   "outputs": [],
   "source": [
    "# challenge_name = \"iiita-oom--lab5\"\n",
    "challenge_name = \"challenge-name\"\n",
    "\n",
    "loginPage = \"https://www.hackerrank.com/auth/login?h_l=body_middle_left_button&h_r=login\"\n",
    "codes_page = \"https://www.hackerrank.com/contests/\" + challenge_name + \"/judge/submissions/team/\""
   ]
  },
  {
   "cell_type": "code",
   "execution_count": 191,
   "metadata": {},
   "outputs": [],
   "source": [
    "def SignIn(URL, username, password) :\n",
    "    driver.get (URL)\n",
    "    driver.find_element_by_id(\"input-1\").send_keys(username)\n",
    "    driver.find_element_by_id (\"input-2\").send_keys(password)\n",
    "    driver.find_element_by_class_name(\"auth-button\").click()"
   ]
  },
  {
   "cell_type": "code",
   "execution_count": 192,
   "metadata": {},
   "outputs": [],
   "source": [
    "SignIn(loginPage, \"username\", \"Password\")"
   ]
  },
  {
   "cell_type": "code",
   "execution_count": 198,
   "metadata": {},
   "outputs": [
    {
     "name": "stdout",
     "output_type": "stream",
     "text": [
      "['iit2018021', 'iit2018040', 'iit2018076', 'iit2018084', 'iit2018063', 'iit2018020', 'iit2018087', 'iit2018043', 'iit2018098', 'iit2018028', 'iit2018025', 'iit2018070', 'iit2018011', 'iit2018045', 'iit2018064', 'iit2018006', 'iit2018032', 'iit2018037', 'iit2018027', 'iit2018026', 'iit2018012', 'iit2018036', 'Asthatiwari', 'iit2018022', 'iit2018013', 'iit2018066', 'iit2018014', 'iit2018007', 'kalyan_005', 'iit2018051', 'iit2018053', 'living_compiler', 'codemaximus', 'iit2018067', 'iit2018095', 'axel223', 'iit2018080', 'iit2018015', 'iit2018054', 'iit2018002', 'iit2018035', 'iit2018008', 'iit2018099']\n"
     ]
    }
   ],
   "source": [
    "handles = []\n",
    "with open(\"Lab5SecA.csv\", \"r\") as f :\n",
    "    data = list(csv.reader(f))\n",
    "    for i in data :\n",
    "        handles.append(i[0])\n",
    "print(handles)"
   ]
  },
  {
   "cell_type": "code",
   "execution_count": 196,
   "metadata": {},
   "outputs": [],
   "source": [
    "def get_code(link) :\n",
    "    driver.get(link)\n",
    "    time.sleep(4)\n",
    "    soup = BeautifulSoup(driver.page_source, 'html.parser')\n",
    "#     print(soup)\n",
    "    a_tag = soup.find('a', class_=\"view-results\")\n",
    "    code_link = \"https://www.hackerrank.com/\" + a_tag['href']\n",
    "    driver.get(code_link)\n",
    "    time.sleep(6)\n",
    "    soup = BeautifulSoup(driver.page_source, 'html.parser')\n",
    "    snippet = soup.find('div', class_=\"CodeMirror-code\")\n",
    "    presentation = snippet.find_all('span', role=\"presentation\")\n",
    "    for i in presentation :\n",
    "        with open(\"./codes/\"+handle+\".java\", 'a') as f:\n",
    "            print(i.text, file=f)\n",
    "    "
   ]
  },
  {
   "cell_type": "code",
   "execution_count": 201,
   "metadata": {},
   "outputs": [],
   "source": [
    "for handle in handles :\n",
    "    code_page_link = codes_page + handle\n",
    "    get_code(code_page_link)"
   ]
  },
  {
   "cell_type": "code",
   "execution_count": 178,
   "metadata": {},
   "outputs": [],
   "source": [
    "\n"
   ]
  },
  {
   "cell_type": "code",
   "execution_count": null,
   "metadata": {},
   "outputs": [],
   "source": []
  }
 ],
 "metadata": {
  "kernelspec": {
   "display_name": "Python 3",
   "language": "python",
   "name": "python3"
  },
  "language_info": {
   "codemirror_mode": {
    "name": "ipython",
    "version": 3
   },
   "file_extension": ".py",
   "mimetype": "text/x-python",
   "name": "python",
   "nbconvert_exporter": "python",
   "pygments_lexer": "ipython3",
   "version": "3.7.3"
  }
 },
 "nbformat": 4,
 "nbformat_minor": 2
}
